{
  "metadata": {
    "kernelspec": {
      "name": "python",
      "display_name": "Python (Pyodide)",
      "language": "python"
    },
    "language_info": {
      "codemirror_mode": {
        "name": "python",
        "version": 3
      },
      "file_extension": ".py",
      "mimetype": "text/x-python",
      "name": "python",
      "nbconvert_exporter": "python",
      "pygments_lexer": "ipython3",
      "version": "3.8"
    }
  },
  "nbformat_minor": 4,
  "nbformat": 4,
  "cells": [
    {
      "cell_type": "markdown",
      "source": "## NumPy\n\n* NumPy stands for numerical Python, a Python library that focuses on scientific computing.\n* NumPy provides support for large, multi-dimensional arrays and matrices, along with a collection of mathematical functions to operate on these arrays efficiently.\n\n### Installing NumPy\n\nUse the following command to install NumPy:\n\n```bash\npip install numpy\n```\n\n### Importing NumPy\n\nTo use NumPy in your Python script, we need to import it at the beginning of our code:\n```bash\nimport numpy as np\n```\n\n### NumPy Arrays\n\nThe core feature of NumPy is its N-dimensional array object, or ndarray. NumPy arrays are more efficient than Python's built-in lists for numerical operations.\n\nWe can create NumPy arrays using various functions:\n",
      "metadata": {}
    },
    {
      "cell_type": "code",
      "source": "import numpy as np\n\n# Create a 1D array\narray1d = np.array([1, 2, 3, 4, 5])\nprint(array1d)",
      "metadata": {
        "trusted": true
      },
      "outputs": [
        {
          "name": "stdout",
          "text": "[1 2 3 4 5]\n",
          "output_type": "stream"
        }
      ],
      "execution_count": 1
    },
    {
      "cell_type": "code",
      "source": "# Create a 2D array\narray2d = np.array([[1, 2, 3], [4, 5, 6]])\nprint(array2d)",
      "metadata": {
        "trusted": true
      },
      "outputs": [
        {
          "name": "stdout",
          "text": "[[1 2 3]\n [4 5 6]]\n",
          "output_type": "stream"
        }
      ],
      "execution_count": 2
    },
    {
      "cell_type": "code",
      "source": "# Create a 3D array\narray3d = np.array([[[1, 2], [3, 4]], [[5, 6], [7, 8]]])\nprint(array3d)",
      "metadata": {
        "trusted": true
      },
      "outputs": [
        {
          "name": "stdout",
          "text": "[[[1 2]\n  [3 4]]\n\n [[5 6]\n  [7 8]]]\n",
          "output_type": "stream"
        }
      ],
      "execution_count": 3
    },
    {
      "cell_type": "markdown",
      "source": "#### Creating Arrays with Built-in Functions\n\nNumPy has several functions to create arrays with specific patterns.\n\n*   `np.zeros(shape)`: Creates an array of zeros with the given shape.\n*   `np.ones(shape)`: Creates an array of ones.\n*   `np.random(shape)`: Creates an array with random values.\n*   `np.arange(start, stop, step)`: Creates an array with a range of values.\n*   `np.linspace(start, stop, num)`: Creates an array with evenly spaced values.",
      "metadata": {}
    },
    {
      "cell_type": "code",
      "source": "zeros = np.zeros((3, 3))  # 3x3 array of zeros\nprint(zeros)  # [[0, 0, 0], [0, 0, 0], [0, 0, 0]]",
      "metadata": {
        "trusted": true
      },
      "outputs": [
        {
          "name": "stdout",
          "text": "[[0. 0. 0.]\n [0. 0. 0.]\n [0. 0. 0.]]\n",
          "output_type": "stream"
        }
      ],
      "execution_count": 4
    },
    {
      "cell_type": "code",
      "source": "ones = np.ones((2, 3))  # 2x3 array of ones\nprint(ones)  # [[1, 1, 1], [1, 1, 1]]",
      "metadata": {
        "trusted": true
      },
      "outputs": [
        {
          "name": "stdout",
          "text": "[[1. 1. 1.]\n [1. 1. 1.]]\n",
          "output_type": "stream"
        }
      ],
      "execution_count": 5
    },
    {
      "cell_type": "code",
      "source": "random_array = np.random.random((2, 2))\nprint(random_array)",
      "metadata": {
        "trusted": true
      },
      "outputs": [
        {
          "name": "stdout",
          "text": "[[0.84779133 0.85102614]\n [0.48980327 0.93522891]]\n",
          "output_type": "stream"
        }
      ],
      "execution_count": 6
    },
    {
      "cell_type": "code",
      "source": "range_array = np.arange(0, 10, 2)  # Array from 0 to 8 with step 2\nprint(range_array)  # [0, 2, 4, 6, 8]",
      "metadata": {
        "trusted": true
      },
      "outputs": [
        {
          "name": "stdout",
          "text": "[0 2 4 6 8]\n",
          "output_type": "stream"
        }
      ],
      "execution_count": 7
    },
    {
      "cell_type": "code",
      "source": "linspace_array = np.linspace(0, 10, 5)  # 5 evenly spaced values from 0 to 10\nprint(linspace_array)  # [0, 2.5, 5, 7.5, 10]",
      "metadata": {
        "trusted": true
      },
      "outputs": [
        {
          "name": "stdout",
          "text": "[ 0.   2.5  5.   7.5 10. ]\n",
          "output_type": "stream"
        }
      ],
      "execution_count": 8
    },
    {
      "cell_type": "markdown",
      "source": "#### Array Attributes\n\nWe can get information about the array using attributes:",
      "metadata": {}
    },
    {
      "cell_type": "code",
      "source": "array = np.array([1, 2, 3])\nprint(array.shape)     # Output: (3,)\nprint(array.ndim)      # Output: 1\nprint(array.dtype)     # Output: int64",
      "metadata": {
        "trusted": true
      },
      "outputs": [
        {
          "name": "stdout",
          "text": "(3,)\n1\nint32\n",
          "output_type": "stream"
        }
      ],
      "execution_count": 9
    },
    {
      "cell_type": "markdown",
      "source": "#### Indexing and Slicing\n\nWe can access elements, rows, or columns of an array using indexing and slicing.",
      "metadata": {}
    },
    {
      "cell_type": "code",
      "source": "my_array = np.array([[1, 2, 3], [4, 5, 6], [7, 8, 9]])\n\n# Indexing\nprint(my_array[0, 1])  # 2 (first row, second column)",
      "metadata": {
        "trusted": true
      },
      "outputs": [
        {
          "name": "stdout",
          "text": "2\n",
          "output_type": "stream"
        }
      ],
      "execution_count": 10
    },
    {
      "cell_type": "code",
      "source": "# Slicing rows and columns\nprint(my_array[0, :])  # [1, 2, 3] (first row)\nprint(my_array[:, 1])  # [2, 5, 8] (second column)",
      "metadata": {
        "trusted": true
      },
      "outputs": [
        {
          "name": "stdout",
          "text": "[1 2 3]\n[2 5 8]\n",
          "output_type": "stream"
        }
      ],
      "execution_count": 11
    },
    {
      "cell_type": "code",
      "source": "# Slicing a subarray\nprint(my_array[0:2, 1:3])  # [[2, 3], [5, 6]]",
      "metadata": {
        "trusted": true
      },
      "outputs": [
        {
          "name": "stdout",
          "text": "[[2 3]\n [5 6]]\n",
          "output_type": "stream"
        }
      ],
      "execution_count": 12
    },
    {
      "cell_type": "markdown",
      "source": "#### Basic Operations with NumPy Arrays\n\nNumPy allows you to perform element-wise operations, such as addition, subtraction, multiplication, and division, as well as mathematical functions.",
      "metadata": {}
    },
    {
      "cell_type": "code",
      "source": "arr1 = np.array([1, 2, 3])\narr2 = np.array([4, 5, 6])\n\n# Element-wise addition\nresult = arr1 + arr2\nprint(result)  # [5, 7, 9]",
      "metadata": {
        "trusted": true
      },
      "outputs": [
        {
          "name": "stdout",
          "text": "[5 7 9]\n",
          "output_type": "stream"
        }
      ],
      "execution_count": 13
    },
    {
      "cell_type": "code",
      "source": "# Element-wise multiplication\nresult = arr1 * arr2\nprint(result)  # [4, 10, 18]",
      "metadata": {
        "trusted": true
      },
      "outputs": [
        {
          "name": "stdout",
          "text": "[ 4 10 18]\n",
          "output_type": "stream"
        }
      ],
      "execution_count": 14
    },
    {
      "cell_type": "code",
      "source": "# Element-wise division\nresult = arr2 / arr1\nprint(result)  # [4, 2.5, 2]",
      "metadata": {
        "trusted": true
      },
      "outputs": [
        {
          "name": "stdout",
          "text": "[4.  2.5 2. ]\n",
          "output_type": "stream"
        }
      ],
      "execution_count": 15
    },
    {
      "cell_type": "code",
      "source": "# Mathematical functions\nresult = np.sin(arr1)\nprint(result)  # [sin(1), sin(2), sin(3)]",
      "metadata": {
        "trusted": true
      },
      "outputs": [
        {
          "name": "stdout",
          "text": "[0.84147098 0.90929743 0.14112001]\n",
          "output_type": "stream"
        }
      ],
      "execution_count": 16
    },
    {
      "cell_type": "code",
      "source": "# Square root of each element\nsqrt_array = np.sqrt(arr2)\nprint(sqrt_array)",
      "metadata": {
        "trusted": true
      },
      "outputs": [
        {
          "name": "stdout",
          "text": "[2.         2.23606798 2.44948974]\n",
          "output_type": "stream"
        }
      ],
      "execution_count": 17
    },
    {
      "cell_type": "markdown",
      "source": "#### Array Reshaping",
      "metadata": {}
    },
    {
      "cell_type": "code",
      "source": "new_array = np.array([1, 2, 3, 4, 5, 6])\nreshaped_array = new_array.reshape(2, 3)\nprint(new_array)\nprint(reshaped_array)",
      "metadata": {
        "trusted": true
      },
      "outputs": [
        {
          "name": "stdout",
          "text": "[1 2 3 4 5 6]\n[[1 2 3]\n [4 5 6]]\n",
          "output_type": "stream"
        }
      ],
      "execution_count": 18
    },
    {
      "cell_type": "markdown",
      "source": "#### Linear Algebra Operations",
      "metadata": {}
    },
    {
      "cell_type": "code",
      "source": "matrix1 = np.array([[1, 2], [3, 4]])\nmatrix2 = np.array([[2, 3], [4, 5]])\n\n# Matrix multiplication\nmatmul = np.dot(matrix1, matrix2)\nprint(matmul)",
      "metadata": {
        "trusted": true
      },
      "outputs": [
        {
          "name": "stdout",
          "text": "[[10 13]\n [22 29]]\n",
          "output_type": "stream"
        }
      ],
      "execution_count": 19
    },
    {
      "cell_type": "code",
      "source": "# Inverse of a matrix\ninverse = np.linalg.inv(matrix1)\nprint(inverse)",
      "metadata": {
        "trusted": true
      },
      "outputs": [
        {
          "name": "stdout",
          "text": "[[-2.   1. ]\n [ 1.5 -0.5]]\n",
          "output_type": "stream"
        }
      ],
      "execution_count": 20
    },
    {
      "cell_type": "markdown",
      "source": "#### Transpose\n\nWe can transpose an array, which swaps rows with columns:",
      "metadata": {}
    },
    {
      "cell_type": "code",
      "source": "array = np.array([[1, 2, 3], [4, 5, 6]])\ntransposed_array = array.T\nprint(array)\nprint(transposed_array)",
      "metadata": {
        "trusted": true
      },
      "outputs": [
        {
          "name": "stdout",
          "text": "[[1 2 3]\n [4 5 6]]\n[[1 4]\n [2 5]\n [3 6]]\n",
          "output_type": "stream"
        }
      ],
      "execution_count": 21
    },
    {
      "cell_type": "code",
      "source": "",
      "metadata": {
        "trusted": true
      },
      "outputs": [],
      "execution_count": null
    }
  ]
}