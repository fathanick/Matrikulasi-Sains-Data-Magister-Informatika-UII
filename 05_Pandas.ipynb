{
  "metadata": {
    "kernelspec": {
      "name": "python",
      "display_name": "Python (Pyodide)",
      "language": "python"
    },
    "language_info": {
      "codemirror_mode": {
        "name": "python",
        "version": 3
      },
      "file_extension": ".py",
      "mimetype": "text/x-python",
      "name": "python",
      "nbconvert_exporter": "python",
      "pygments_lexer": "ipython3",
      "version": "3.8"
    }
  },
  "nbformat_minor": 4,
  "nbformat": 4,
  "cells": [
    {
      "cell_type": "markdown",
      "source": "## Pandas\n\n* Pandas is a package built on top of NumPy, and provides an efficient implementation of a DataFrame.\n* DataFrames are essentially multidimensional arrays with attached row and column labels, and often with heterogeneous types and/or missing data.\n* As well as offering a convenient storage interface for labeled data, Pandas implements a number of powerful data operations familiar to users of both database frameworks and spreadsheet programs.\n* DataFrame can be said to be a combination of a Dictionary object Series that has the same index.",
      "metadata": {}
    },
    {
      "cell_type": "markdown",
      "source": "### Installation\n\n```bash\npip install pandas\n```\n\n### Importing Pandas",
      "metadata": {}
    },
    {
      "cell_type": "code",
      "source": "import pandas as pd",
      "metadata": {
        "trusted": true
      },
      "outputs": [],
      "execution_count": 1
    },
    {
      "cell_type": "markdown",
      "source": "The two main data structures in pandas are Series and DataFrame.\n\n1. **Series:**\nA Series is a one-dimensional labeled array capable of holding any data type. It can be created from a list, array, or dictionary.",
      "metadata": {}
    },
    {
      "cell_type": "code",
      "source": "# Create a Series from a list\nseries = pd.Series([1, 2, 3, 4, 5])\n\n# Create a Series from a dictionary\ndata = {'a': 10, 'b': 20, 'c': 30}\nseries = pd.Series(data)",
      "metadata": {
        "trusted": true
      },
      "outputs": [],
      "execution_count": 2
    },
    {
      "cell_type": "code",
      "source": "print(data)",
      "metadata": {
        "trusted": true
      },
      "outputs": [
        {
          "name": "stdout",
          "text": "{'a': 10, 'b': 20, 'c': 30}\n",
          "output_type": "stream"
        }
      ],
      "execution_count": 3
    },
    {
      "cell_type": "code",
      "source": "print(series)",
      "metadata": {
        "trusted": true
      },
      "outputs": [
        {
          "name": "stdout",
          "text": "a    10\nb    20\nc    30\ndtype: int64\n",
          "output_type": "stream"
        }
      ],
      "execution_count": 4
    },
    {
      "cell_type": "markdown",
      "source": "2. **DataFrame:**\nA DataFrame is a two-dimensional tabular data structure with labeled axes (rows and columns). It can be created from a dictionary, list of dictionaries, or a 2D array.",
      "metadata": {}
    },
    {
      "cell_type": "code",
      "source": "# Create a DataFrame from a dictionary\ndata = {'Name': ['Alice', 'Bob', 'Charlie'],\n        'Age': [25, 30, 22],\n        'City': ['New York', 'Los Angeles', 'Chicago']}\ndf = pd.DataFrame(data)",
      "metadata": {
        "trusted": true
      },
      "outputs": [],
      "execution_count": 5
    },
    {
      "cell_type": "code",
      "source": "df",
      "metadata": {
        "trusted": true
      },
      "outputs": [
        {
          "execution_count": 6,
          "output_type": "execute_result",
          "data": {
            "text/plain": "      Name  Age         City\n0    Alice   25     New York\n1      Bob   30  Los Angeles\n2  Charlie   22      Chicago",
            "text/html": "<div>\n<style scoped>\n    .dataframe tbody tr th:only-of-type {\n        vertical-align: middle;\n    }\n\n    .dataframe tbody tr th {\n        vertical-align: top;\n    }\n\n    .dataframe thead th {\n        text-align: right;\n    }\n</style>\n<table border=\"1\" class=\"dataframe\">\n  <thead>\n    <tr style=\"text-align: right;\">\n      <th></th>\n      <th>Name</th>\n      <th>Age</th>\n      <th>City</th>\n    </tr>\n  </thead>\n  <tbody>\n    <tr>\n      <th>0</th>\n      <td>Alice</td>\n      <td>25</td>\n      <td>New York</td>\n    </tr>\n    <tr>\n      <th>1</th>\n      <td>Bob</td>\n      <td>30</td>\n      <td>Los Angeles</td>\n    </tr>\n    <tr>\n      <th>2</th>\n      <td>Charlie</td>\n      <td>22</td>\n      <td>Chicago</td>\n    </tr>\n  </tbody>\n</table>\n</div>"
          },
          "metadata": {}
        }
      ],
      "execution_count": 6
    },
    {
      "cell_type": "markdown",
      "source": "### Exploring Data\n\nWe can use various methods to explore its structure and contents.",
      "metadata": {}
    },
    {
      "cell_type": "code",
      "source": "# Display the first few rows of the DataFrame\nprint(df.head())  # Default is the first 5 rows",
      "metadata": {
        "trusted": true
      },
      "outputs": [
        {
          "name": "stdout",
          "text": "      Name  Age         City\n0    Alice   25     New York\n1      Bob   30  Los Angeles\n2  Charlie   22      Chicago\n",
          "output_type": "stream"
        }
      ],
      "execution_count": 7
    },
    {
      "cell_type": "code",
      "source": "# Get a summary of the DataFrame\nprint(df.info())  # Information about data types and non-null counts",
      "metadata": {
        "trusted": true
      },
      "outputs": [
        {
          "name": "stdout",
          "text": "<class 'pandas.core.frame.DataFrame'>\nRangeIndex: 3 entries, 0 to 2\nData columns (total 3 columns):\n #   Column  Non-Null Count  Dtype \n---  ------  --------------  ----- \n 0   Name    3 non-null      object\n 1   Age     3 non-null      int64 \n 2   City    3 non-null      object\ndtypes: int64(1), object(2)\nmemory usage: 120.0+ bytes\nNone\n",
          "output_type": "stream"
        }
      ],
      "execution_count": 8
    },
    {
      "cell_type": "code",
      "source": "# Display data types of columns\nprint(df.dtypes)",
      "metadata": {
        "trusted": true
      },
      "outputs": [
        {
          "name": "stdout",
          "text": "Name    object\nAge      int64\nCity    object\ndtype: object\n",
          "output_type": "stream"
        }
      ],
      "execution_count": 9
    },
    {
      "cell_type": "code",
      "source": "# Display the last few rows\nprint(df.tail())",
      "metadata": {
        "trusted": true
      },
      "outputs": [
        {
          "name": "stdout",
          "text": "      Name  Age         City\n0    Alice   25     New York\n1      Bob   30  Los Angeles\n2  Charlie   22      Chicago\n",
          "output_type": "stream"
        }
      ],
      "execution_count": 10
    },
    {
      "cell_type": "code",
      "source": "# Get the shape of the DataFrame (number of rows and columns)\nprint(df.shape)  # Output: (number_of_rows, number_of_columns)",
      "metadata": {
        "trusted": true
      },
      "outputs": [
        {
          "name": "stdout",
          "text": "(3, 3)\n",
          "output_type": "stream"
        }
      ],
      "execution_count": 11
    },
    {
      "cell_type": "code",
      "source": "# Get basic statistics for numerical columns\nprint(df.describe())",
      "metadata": {
        "trusted": true
      },
      "outputs": [
        {
          "name": "stdout",
          "text": "             Age\ncount   3.000000\nmean   25.666667\nstd     4.041452\nmin    22.000000\n25%    23.500000\n50%    25.000000\n75%    27.500000\nmax    30.000000\n",
          "output_type": "stream"
        }
      ],
      "execution_count": 12
    },
    {
      "cell_type": "markdown",
      "source": "### Selecting Data",
      "metadata": {}
    },
    {
      "cell_type": "code",
      "source": "# Select a single column\ncolumn = df['Age']\ncolumn",
      "metadata": {
        "trusted": true
      },
      "outputs": [
        {
          "execution_count": 13,
          "output_type": "execute_result",
          "data": {
            "text/plain": "0    25\n1    30\n2    22\nName: Age, dtype: int64"
          },
          "metadata": {}
        }
      ],
      "execution_count": 13
    },
    {
      "cell_type": "code",
      "source": "# Select multiple columns\nsubset = df[['Name', 'City']]\nsubset",
      "metadata": {
        "trusted": true
      },
      "outputs": [
        {
          "execution_count": 14,
          "output_type": "execute_result",
          "data": {
            "text/plain": "      Name         City\n0    Alice     New York\n1      Bob  Los Angeles\n2  Charlie      Chicago",
            "text/html": "<div>\n<style scoped>\n    .dataframe tbody tr th:only-of-type {\n        vertical-align: middle;\n    }\n\n    .dataframe tbody tr th {\n        vertical-align: top;\n    }\n\n    .dataframe thead th {\n        text-align: right;\n    }\n</style>\n<table border=\"1\" class=\"dataframe\">\n  <thead>\n    <tr style=\"text-align: right;\">\n      <th></th>\n      <th>Name</th>\n      <th>City</th>\n    </tr>\n  </thead>\n  <tbody>\n    <tr>\n      <th>0</th>\n      <td>Alice</td>\n      <td>New York</td>\n    </tr>\n    <tr>\n      <th>1</th>\n      <td>Bob</td>\n      <td>Los Angeles</td>\n    </tr>\n    <tr>\n      <th>2</th>\n      <td>Charlie</td>\n      <td>Chicago</td>\n    </tr>\n  </tbody>\n</table>\n</div>"
          },
          "metadata": {}
        }
      ],
      "execution_count": 14
    },
    {
      "cell_type": "code",
      "source": "# Select rows based on a condition\nfiltered_df = df[df['Age'] > 25]\nfiltered_df",
      "metadata": {
        "trusted": true
      },
      "outputs": [
        {
          "execution_count": 15,
          "output_type": "execute_result",
          "data": {
            "text/plain": "  Name  Age         City\n1  Bob   30  Los Angeles",
            "text/html": "<div>\n<style scoped>\n    .dataframe tbody tr th:only-of-type {\n        vertical-align: middle;\n    }\n\n    .dataframe tbody tr th {\n        vertical-align: top;\n    }\n\n    .dataframe thead th {\n        text-align: right;\n    }\n</style>\n<table border=\"1\" class=\"dataframe\">\n  <thead>\n    <tr style=\"text-align: right;\">\n      <th></th>\n      <th>Name</th>\n      <th>Age</th>\n      <th>City</th>\n    </tr>\n  </thead>\n  <tbody>\n    <tr>\n      <th>1</th>\n      <td>Bob</td>\n      <td>30</td>\n      <td>Los Angeles</td>\n    </tr>\n  </tbody>\n</table>\n</div>"
          },
          "metadata": {}
        }
      ],
      "execution_count": 15
    },
    {
      "cell_type": "markdown",
      "source": "### Adding and Deleting Columns",
      "metadata": {}
    },
    {
      "cell_type": "code",
      "source": "# Add a new column\ndf['Salary'] = [60000, 75000, 50000]\ndf",
      "metadata": {
        "trusted": true
      },
      "outputs": [
        {
          "execution_count": 16,
          "output_type": "execute_result",
          "data": {
            "text/plain": "      Name  Age         City  Salary\n0    Alice   25     New York   60000\n1      Bob   30  Los Angeles   75000\n2  Charlie   22      Chicago   50000",
            "text/html": "<div>\n<style scoped>\n    .dataframe tbody tr th:only-of-type {\n        vertical-align: middle;\n    }\n\n    .dataframe tbody tr th {\n        vertical-align: top;\n    }\n\n    .dataframe thead th {\n        text-align: right;\n    }\n</style>\n<table border=\"1\" class=\"dataframe\">\n  <thead>\n    <tr style=\"text-align: right;\">\n      <th></th>\n      <th>Name</th>\n      <th>Age</th>\n      <th>City</th>\n      <th>Salary</th>\n    </tr>\n  </thead>\n  <tbody>\n    <tr>\n      <th>0</th>\n      <td>Alice</td>\n      <td>25</td>\n      <td>New York</td>\n      <td>60000</td>\n    </tr>\n    <tr>\n      <th>1</th>\n      <td>Bob</td>\n      <td>30</td>\n      <td>Los Angeles</td>\n      <td>75000</td>\n    </tr>\n    <tr>\n      <th>2</th>\n      <td>Charlie</td>\n      <td>22</td>\n      <td>Chicago</td>\n      <td>50000</td>\n    </tr>\n  </tbody>\n</table>\n</div>"
          },
          "metadata": {}
        }
      ],
      "execution_count": 16
    },
    {
      "cell_type": "code",
      "source": "# Delete a column\ndel df['Salary']\ndf",
      "metadata": {
        "trusted": true
      },
      "outputs": [
        {
          "execution_count": 17,
          "output_type": "execute_result",
          "data": {
            "text/plain": "      Name  Age         City\n0    Alice   25     New York\n1      Bob   30  Los Angeles\n2  Charlie   22      Chicago",
            "text/html": "<div>\n<style scoped>\n    .dataframe tbody tr th:only-of-type {\n        vertical-align: middle;\n    }\n\n    .dataframe tbody tr th {\n        vertical-align: top;\n    }\n\n    .dataframe thead th {\n        text-align: right;\n    }\n</style>\n<table border=\"1\" class=\"dataframe\">\n  <thead>\n    <tr style=\"text-align: right;\">\n      <th></th>\n      <th>Name</th>\n      <th>Age</th>\n      <th>City</th>\n    </tr>\n  </thead>\n  <tbody>\n    <tr>\n      <th>0</th>\n      <td>Alice</td>\n      <td>25</td>\n      <td>New York</td>\n    </tr>\n    <tr>\n      <th>1</th>\n      <td>Bob</td>\n      <td>30</td>\n      <td>Los Angeles</td>\n    </tr>\n    <tr>\n      <th>2</th>\n      <td>Charlie</td>\n      <td>22</td>\n      <td>Chicago</td>\n    </tr>\n  </tbody>\n</table>\n</div>"
          },
          "metadata": {}
        }
      ],
      "execution_count": 17
    },
    {
      "cell_type": "markdown",
      "source": "### Sorting Data",
      "metadata": {}
    },
    {
      "cell_type": "code",
      "source": "sorted_df = df.sort_values(by='Age', ascending=False)\nsorted_df",
      "metadata": {
        "trusted": true
      },
      "outputs": [
        {
          "execution_count": 18,
          "output_type": "execute_result",
          "data": {
            "text/plain": "      Name  Age         City\n1      Bob   30  Los Angeles\n0    Alice   25     New York\n2  Charlie   22      Chicago",
            "text/html": "<div>\n<style scoped>\n    .dataframe tbody tr th:only-of-type {\n        vertical-align: middle;\n    }\n\n    .dataframe tbody tr th {\n        vertical-align: top;\n    }\n\n    .dataframe thead th {\n        text-align: right;\n    }\n</style>\n<table border=\"1\" class=\"dataframe\">\n  <thead>\n    <tr style=\"text-align: right;\">\n      <th></th>\n      <th>Name</th>\n      <th>Age</th>\n      <th>City</th>\n    </tr>\n  </thead>\n  <tbody>\n    <tr>\n      <th>1</th>\n      <td>Bob</td>\n      <td>30</td>\n      <td>Los Angeles</td>\n    </tr>\n    <tr>\n      <th>0</th>\n      <td>Alice</td>\n      <td>25</td>\n      <td>New York</td>\n    </tr>\n    <tr>\n      <th>2</th>\n      <td>Charlie</td>\n      <td>22</td>\n      <td>Chicago</td>\n    </tr>\n  </tbody>\n</table>\n</div>"
          },
          "metadata": {}
        }
      ],
      "execution_count": 18
    },
    {
      "cell_type": "markdown",
      "source": "### Grouping and Aggregating Data",
      "metadata": {}
    },
    {
      "cell_type": "code",
      "source": "# Compute the mean of a column\nmean_age = df['Age'].mean()\nmean_age",
      "metadata": {
        "trusted": true
      },
      "outputs": [
        {
          "execution_count": 19,
          "output_type": "execute_result",
          "data": {
            "text/plain": "25.666666666666668"
          },
          "metadata": {}
        }
      ],
      "execution_count": 19
    },
    {
      "cell_type": "code",
      "source": "# Compute the maximum value of a column\nmax_age = df['Age'].max()\nmax_age",
      "metadata": {
        "trusted": true
      },
      "outputs": [
        {
          "execution_count": 20,
          "output_type": "execute_result",
          "data": {
            "text/plain": "30"
          },
          "metadata": {}
        }
      ],
      "execution_count": 20
    },
    {
      "cell_type": "code",
      "source": "# Group by \"City\" and calculate the mean age\ngrouped = df.groupby(\"City\")[\"Age\"].mean()\nprint(grouped)",
      "metadata": {
        "trusted": true
      },
      "outputs": [
        {
          "name": "stdout",
          "text": "City\nChicago        22.0\nLos Angeles    30.0\nNew York       25.0\nName: Age, dtype: float64\n",
          "output_type": "stream"
        }
      ],
      "execution_count": 21
    },
    {
      "cell_type": "markdown",
      "source": "### Merging and Joining",
      "metadata": {}
    },
    {
      "cell_type": "code",
      "source": "# DataFrames to merge\ndf1 = pd.DataFrame({\n    \"ID\": [1, 2, 3],\n    \"Name\": [\"Alice\", \"Bob\", \"Charlie\"],\n})\n\ndf2 = pd.DataFrame({\n    \"ID\": [2, 3, 4],\n    \"Age\": [25, 30, 35],\n})",
      "metadata": {
        "trusted": true
      },
      "outputs": [],
      "execution_count": 22
    },
    {
      "cell_type": "markdown",
      "source": "**Inner join on \"ID\"**\n\nAn inner join returns rows with matching keys from both DataFrames. In this example, only rows with matching \"ID\" in both DataFrames are included in the merged DataFrame.",
      "metadata": {}
    },
    {
      "cell_type": "code",
      "source": "merged_inner = pd.merge(df1, df2, on=\"ID\", how=\"inner\")\nprint(merged_inner)",
      "metadata": {
        "trusted": true
      },
      "outputs": [
        {
          "name": "stdout",
          "text": "   ID     Name  Age\n0   2      Bob   25\n1   3  Charlie   30\n",
          "output_type": "stream"
        }
      ],
      "execution_count": 28
    },
    {
      "cell_type": "markdown",
      "source": "**Outer join on \"ID\"**\n\nAn outer join returns all rows from both DataFrames, filling missing values with NaN where there's no match.\nIn this example, all rows from both DataFrames are included, with NaN for missing values.",
      "metadata": {}
    },
    {
      "cell_type": "code",
      "source": "merged_outer = pd.merge(df1, df2, on=\"ID\", how=\"outer\")\nprint(merged_outer)",
      "metadata": {
        "trusted": true
      },
      "outputs": [
        {
          "name": "stdout",
          "text": "   ID     Name   Age\n0   1    Alice   NaN\n1   2      Bob  25.0\n2   3  Charlie  30.0\n3   4      NaN  35.0\n",
          "output_type": "stream"
        }
      ],
      "execution_count": 26
    },
    {
      "cell_type": "markdown",
      "source": "**Left join on \"ID\"**\n\nA left join returns all rows from the left DataFrame and the matching rows from the right DataFrame. Unmatched entries are filled with NaN.",
      "metadata": {}
    },
    {
      "cell_type": "code",
      "source": "merged_left = pd.merge(df1, df2, on=\"ID\", how=\"left\")\nprint(merged_left)",
      "metadata": {
        "trusted": true
      },
      "outputs": [
        {
          "name": "stdout",
          "text": "   ID     Name   Age\n0   1    Alice   NaN\n1   2      Bob  25.0\n2   3  Charlie  30.0\n",
          "output_type": "stream"
        }
      ],
      "execution_count": 30
    },
    {
      "cell_type": "markdown",
      "source": "**Right join on \"ID\"**\n\nA right join is the reverse of a left join, returning all rows from the right DataFrame and matching rows from the left DataFrame.",
      "metadata": {}
    },
    {
      "cell_type": "code",
      "source": "merged_right = pd.merge(df1, df2, on=\"ID\", how=\"right\")\nprint(merged_right)",
      "metadata": {
        "trusted": true
      },
      "outputs": [
        {
          "name": "stdout",
          "text": "   ID     Name  Age\n0   2      Bob   25\n1   3  Charlie   30\n2   4      NaN   35\n",
          "output_type": "stream"
        }
      ],
      "execution_count": 31
    },
    {
      "cell_type": "markdown",
      "source": "**Concatenation**",
      "metadata": {}
    },
    {
      "cell_type": "code",
      "source": "# Concatenate DataFrames vertically\nconcatenated_df = pd.concat([df1, df2], axis=0)\nprint(concatenated_df)",
      "metadata": {
        "trusted": true
      },
      "outputs": [
        {
          "name": "stdout",
          "text": "   ID     Name   Age\n0   1    Alice   NaN\n1   2      Bob   NaN\n2   3  Charlie   NaN\n0   2      NaN  25.0\n1   3      NaN  30.0\n2   4      NaN  35.0\n",
          "output_type": "stream"
        }
      ],
      "execution_count": 34
    },
    {
      "cell_type": "markdown",
      "source": "### Handling Missing Data",
      "metadata": {}
    },
    {
      "cell_type": "code",
      "source": "# Check for missing values\nprint(merged_right.isnull())",
      "metadata": {
        "trusted": true
      },
      "outputs": [
        {
          "name": "stdout",
          "text": "      ID   Name    Age\n0  False  False  False\n1  False  False  False\n2  False   True  False\n",
          "output_type": "stream"
        }
      ],
      "execution_count": 35
    },
    {
      "cell_type": "code",
      "source": "# Drop rows with missing values\ndf_cleaned = merged_right.dropna()\ndf_cleaned",
      "metadata": {
        "trusted": true
      },
      "outputs": [
        {
          "execution_count": 36,
          "output_type": "execute_result",
          "data": {
            "text/plain": "   ID     Name  Age\n0   2      Bob   25\n1   3  Charlie   30",
            "text/html": "<div>\n<style scoped>\n    .dataframe tbody tr th:only-of-type {\n        vertical-align: middle;\n    }\n\n    .dataframe tbody tr th {\n        vertical-align: top;\n    }\n\n    .dataframe thead th {\n        text-align: right;\n    }\n</style>\n<table border=\"1\" class=\"dataframe\">\n  <thead>\n    <tr style=\"text-align: right;\">\n      <th></th>\n      <th>ID</th>\n      <th>Name</th>\n      <th>Age</th>\n    </tr>\n  </thead>\n  <tbody>\n    <tr>\n      <th>0</th>\n      <td>2</td>\n      <td>Bob</td>\n      <td>25</td>\n    </tr>\n    <tr>\n      <th>1</th>\n      <td>3</td>\n      <td>Charlie</td>\n      <td>30</td>\n    </tr>\n  </tbody>\n</table>\n</div>"
          },
          "metadata": {}
        }
      ],
      "execution_count": 36
    },
    {
      "cell_type": "code",
      "source": "# Fill missing values with a specific value\ndf_filled = merged_right.fillna(\"Fulan\")\ndf_filled",
      "metadata": {
        "trusted": true
      },
      "outputs": [
        {
          "execution_count": 38,
          "output_type": "execute_result",
          "data": {
            "text/plain": "   ID     Name  Age\n0   2      Bob   25\n1   3  Charlie   30\n2   4    Fulan   35",
            "text/html": "<div>\n<style scoped>\n    .dataframe tbody tr th:only-of-type {\n        vertical-align: middle;\n    }\n\n    .dataframe tbody tr th {\n        vertical-align: top;\n    }\n\n    .dataframe thead th {\n        text-align: right;\n    }\n</style>\n<table border=\"1\" class=\"dataframe\">\n  <thead>\n    <tr style=\"text-align: right;\">\n      <th></th>\n      <th>ID</th>\n      <th>Name</th>\n      <th>Age</th>\n    </tr>\n  </thead>\n  <tbody>\n    <tr>\n      <th>0</th>\n      <td>2</td>\n      <td>Bob</td>\n      <td>25</td>\n    </tr>\n    <tr>\n      <th>1</th>\n      <td>3</td>\n      <td>Charlie</td>\n      <td>30</td>\n    </tr>\n    <tr>\n      <th>2</th>\n      <td>4</td>\n      <td>Fulan</td>\n      <td>35</td>\n    </tr>\n  </tbody>\n</table>\n</div>"
          },
          "metadata": {}
        }
      ],
      "execution_count": 38
    },
    {
      "cell_type": "markdown",
      "source": "### Reading and Writing Data",
      "metadata": {}
    },
    {
      "cell_type": "code",
      "source": "# Read data from a CSV file\ndf_iris = pd.read_csv('dataset/iris.csv')\ndf_iris",
      "metadata": {
        "trusted": true
      },
      "outputs": [
        {
          "execution_count": 39,
          "output_type": "execute_result",
          "data": {
            "text/plain": "     sepal.length  sepal.width  petal.length  petal.width    variety\n0             5.1          3.5           1.4          0.2     Setosa\n1             4.9          3.0           1.4          0.2     Setosa\n2             4.7          3.2           1.3          0.2     Setosa\n3             4.6          3.1           1.5          0.2     Setosa\n4             5.0          3.6           1.4          0.2     Setosa\n..            ...          ...           ...          ...        ...\n145           6.7          3.0           5.2          2.3  Virginica\n146           6.3          2.5           5.0          1.9  Virginica\n147           6.5          3.0           5.2          2.0  Virginica\n148           6.2          3.4           5.4          2.3  Virginica\n149           5.9          3.0           5.1          1.8  Virginica\n\n[150 rows x 5 columns]",
            "text/html": "<div>\n<style scoped>\n    .dataframe tbody tr th:only-of-type {\n        vertical-align: middle;\n    }\n\n    .dataframe tbody tr th {\n        vertical-align: top;\n    }\n\n    .dataframe thead th {\n        text-align: right;\n    }\n</style>\n<table border=\"1\" class=\"dataframe\">\n  <thead>\n    <tr style=\"text-align: right;\">\n      <th></th>\n      <th>sepal.length</th>\n      <th>sepal.width</th>\n      <th>petal.length</th>\n      <th>petal.width</th>\n      <th>variety</th>\n    </tr>\n  </thead>\n  <tbody>\n    <tr>\n      <th>0</th>\n      <td>5.1</td>\n      <td>3.5</td>\n      <td>1.4</td>\n      <td>0.2</td>\n      <td>Setosa</td>\n    </tr>\n    <tr>\n      <th>1</th>\n      <td>4.9</td>\n      <td>3.0</td>\n      <td>1.4</td>\n      <td>0.2</td>\n      <td>Setosa</td>\n    </tr>\n    <tr>\n      <th>2</th>\n      <td>4.7</td>\n      <td>3.2</td>\n      <td>1.3</td>\n      <td>0.2</td>\n      <td>Setosa</td>\n    </tr>\n    <tr>\n      <th>3</th>\n      <td>4.6</td>\n      <td>3.1</td>\n      <td>1.5</td>\n      <td>0.2</td>\n      <td>Setosa</td>\n    </tr>\n    <tr>\n      <th>4</th>\n      <td>5.0</td>\n      <td>3.6</td>\n      <td>1.4</td>\n      <td>0.2</td>\n      <td>Setosa</td>\n    </tr>\n    <tr>\n      <th>...</th>\n      <td>...</td>\n      <td>...</td>\n      <td>...</td>\n      <td>...</td>\n      <td>...</td>\n    </tr>\n    <tr>\n      <th>145</th>\n      <td>6.7</td>\n      <td>3.0</td>\n      <td>5.2</td>\n      <td>2.3</td>\n      <td>Virginica</td>\n    </tr>\n    <tr>\n      <th>146</th>\n      <td>6.3</td>\n      <td>2.5</td>\n      <td>5.0</td>\n      <td>1.9</td>\n      <td>Virginica</td>\n    </tr>\n    <tr>\n      <th>147</th>\n      <td>6.5</td>\n      <td>3.0</td>\n      <td>5.2</td>\n      <td>2.0</td>\n      <td>Virginica</td>\n    </tr>\n    <tr>\n      <th>148</th>\n      <td>6.2</td>\n      <td>3.4</td>\n      <td>5.4</td>\n      <td>2.3</td>\n      <td>Virginica</td>\n    </tr>\n    <tr>\n      <th>149</th>\n      <td>5.9</td>\n      <td>3.0</td>\n      <td>5.1</td>\n      <td>1.8</td>\n      <td>Virginica</td>\n    </tr>\n  </tbody>\n</table>\n<p>150 rows × 5 columns</p>\n</div>"
          },
          "metadata": {}
        }
      ],
      "execution_count": 39
    },
    {
      "cell_type": "code",
      "source": "# Write data to a CSV file\ndf_filled.to_csv('output.csv', index=False)",
      "metadata": {
        "trusted": true
      },
      "outputs": [],
      "execution_count": 40
    },
    {
      "cell_type": "code",
      "source": "",
      "metadata": {
        "trusted": true
      },
      "outputs": [],
      "execution_count": null
    }
  ]
}