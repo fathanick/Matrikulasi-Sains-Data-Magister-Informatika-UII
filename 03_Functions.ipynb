{
  "metadata": {
    "kernelspec": {
      "name": "python",
      "display_name": "Python (Pyodide)",
      "language": "python"
    },
    "language_info": {
      "codemirror_mode": {
        "name": "python",
        "version": 3
      },
      "file_extension": ".py",
      "mimetype": "text/x-python",
      "name": "python",
      "nbconvert_exporter": "python",
      "pygments_lexer": "ipython3",
      "version": "3.8"
    }
  },
  "nbformat_minor": 4,
  "nbformat": 4,
  "cells": [
    {
      "cell_type": "markdown",
      "source": "## Python Functions\n\nFunctions in Python allow us to create reusable blocks of code. They can take inputs (parameters), perform operations, and return outputs (results). Functions help improve code organization, reusability, and readability.\n\n### 1. Defining Function\n\nWe can define a function using the `def` keyword, followed by the function name, parentheses `()`, and a colon `:`. The code inside the function is indented.\n\n**Syntax:**\n```python\ndef function_name(parameters):\n    # Function body\n    # ...",
      "metadata": {}
    },
    {
      "cell_type": "code",
      "source": "def greet():\n    print(\"Hello, Python!\")",
      "metadata": {
        "trusted": true
      },
      "outputs": [],
      "execution_count": 1
    },
    {
      "cell_type": "markdown",
      "source": "### 2. Calling a Function\n\nTo execute the code inside a function, you need to call the function by using its name followed by parentheses `()`.",
      "metadata": {}
    },
    {
      "cell_type": "code",
      "source": "greet()",
      "metadata": {
        "trusted": true
      },
      "outputs": [
        {
          "name": "stdout",
          "text": "Hello, Python!\n",
          "output_type": "stream"
        }
      ],
      "execution_count": 2
    },
    {
      "cell_type": "markdown",
      "source": "### 3. Function Parameters\n\nFunctions can take parameters, which are values that you pass to the function when we call it. These parameters act as variables inside the function.",
      "metadata": {}
    },
    {
      "cell_type": "code",
      "source": "def add(a, b):\n    return a + b\n\nresult = add(3, 4)\nprint(result)  # Output: 7",
      "metadata": {
        "trusted": true
      },
      "outputs": [
        {
          "name": "stdout",
          "text": "7\n",
          "output_type": "stream"
        }
      ],
      "execution_count": 3
    },
    {
      "cell_type": "markdown",
      "source": "### 4. Default Parameter Values\n\nWe can provide default values for function parameters. If no value is provided when calling the function, the default value is used.",
      "metadata": {}
    },
    {
      "cell_type": "code",
      "source": "def greet(name=\"Guest\"):\n    print(f\"Hello, {name}!\")\n\ngreet()  # Output: Hello, Guest!\ngreet(\"Alice\")  # Output: Hello, Alice!",
      "metadata": {
        "trusted": true
      },
      "outputs": [
        {
          "name": "stdout",
          "text": "Hello, Guest!\nHello, Alice!\n",
          "output_type": "stream"
        }
      ],
      "execution_count": 7
    },
    {
      "cell_type": "markdown",
      "source": "### 5. Keyword Arguments\n\nWe can call functions with keyword arguments, specifying parameter names explicitly.",
      "metadata": {}
    },
    {
      "cell_type": "code",
      "source": "def subtract(a, b):\n    return a - b\n\n# Using keyword arguments\nresult = subtract(b=5, a=10)  # Output: 5",
      "metadata": {
        "trusted": true
      },
      "outputs": [],
      "execution_count": 8
    },
    {
      "cell_type": "markdown",
      "source": "### 6. Arbitrary Arguments\n\nWe can use `*args` to accept an arbitrary number of arguments of any type. These arguments are passed as a tuple.",
      "metadata": {}
    },
    {
      "cell_type": "code",
      "source": "def sum_numbers(*args):\n    total = 0\n    for num in args:\n        total += num\n    return total\n\nresult = sum_numbers(1, 2, 3, 4, 5)\nprint(result)  # Output: 15",
      "metadata": {
        "trusted": true
      },
      "outputs": [
        {
          "name": "stdout",
          "text": "15\n",
          "output_type": "stream"
        }
      ],
      "execution_count": 9
    },
    {
      "cell_type": "markdown",
      "source": "### 7. Arbitrary Keyword Arguments\n\nWe can use `**kwargs` to accept an arbitrary number of keyword arguments. These arguments are passed as a dictionary.",
      "metadata": {}
    },
    {
      "cell_type": "code",
      "source": "def print_profile(**kwargs):\n    for key, value in kwargs.items():\n        print(f\"{key}: {value}\")\n\nprint_profile(name=\"Alice\", age=25, city=\"New York\")\n# Output:\n# name: Alice\n# age: 25\n# city: New York",
      "metadata": {
        "trusted": true
      },
      "outputs": [
        {
          "name": "stdout",
          "text": "name: Alice\nage: 25\ncity: New York\n",
          "output_type": "stream"
        }
      ],
      "execution_count": 10
    },
    {
      "cell_type": "markdown",
      "source": "### 8. Returning Values\n\nFunctions can return a value using the `return` keyword. If no `return` is specified, the function implicitly returns `None`.",
      "metadata": {}
    },
    {
      "cell_type": "code",
      "source": "def multiply(a, b):\n    return a * b\n\nresult = multiply(3, 5)  # Output: 15\nresult",
      "metadata": {
        "trusted": true
      },
      "outputs": [
        {
          "execution_count": 14,
          "output_type": "execute_result",
          "data": {
            "text/plain": "15"
          },
          "metadata": {}
        }
      ],
      "execution_count": 14
    },
    {
      "cell_type": "markdown",
      "source": "A function can return multiple values by using commas to separate the values. These values can be assigned to multiple variables when the function is called.",
      "metadata": {}
    },
    {
      "cell_type": "code",
      "source": "def get_max_min(numbers):\n    return max(numbers), min(numbers)\n\nmax_value, min_value = get_max_min([5, 12, 3, 8, -2])\nprint(max_value, min_value)  # Output: 12 -2",
      "metadata": {
        "trusted": true
      },
      "outputs": [
        {
          "name": "stdout",
          "text": "12 -2\n",
          "output_type": "stream"
        }
      ],
      "execution_count": 15
    },
    {
      "cell_type": "markdown",
      "source": "### 9. Variable Scope\n\nVariables defined inside a function have local scope, meaning they are only accessible within that function. Variables defined outside of functions have global scope.",
      "metadata": {}
    },
    {
      "cell_type": "code",
      "source": "x = 10  # Global variable\n\ndef add_to_x(y):\n    local_x = 5  # Local variable\n    return x + y + local_x\n\nresult = add_to_x(3)  # Output: 18\nprint(result)",
      "metadata": {
        "trusted": true
      },
      "outputs": [
        {
          "name": "stdout",
          "text": "18\n",
          "output_type": "stream"
        }
      ],
      "execution_count": 17
    },
    {
      "cell_type": "markdown",
      "source": "### 10. Lambda Functions\n\nLambda functions are small, anonymous functions defined with the `lambda` keyword. They are typically used for short, one-liner functions.",
      "metadata": {}
    },
    {
      "cell_type": "code",
      "source": "add = lambda x, y: x + y  # Lambda function\nresult = add(3, 5)  # Output: 8\nprint(result)",
      "metadata": {
        "trusted": true
      },
      "outputs": [
        {
          "name": "stdout",
          "text": "8\n",
          "output_type": "stream"
        }
      ],
      "execution_count": 18
    },
    {
      "cell_type": "code",
      "source": "x = lambda a, b, c : a + b + c\nprint(x(5, 6, 2))",
      "metadata": {
        "trusted": true
      },
      "outputs": [
        {
          "name": "stdout",
          "text": "13\n",
          "output_type": "stream"
        }
      ],
      "execution_count": 19
    },
    {
      "cell_type": "code",
      "source": "",
      "metadata": {
        "trusted": true
      },
      "outputs": [],
      "execution_count": null
    }
  ]
}