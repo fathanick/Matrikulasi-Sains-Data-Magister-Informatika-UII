{
  "metadata": {
    "kernelspec": {
      "name": "python",
      "display_name": "Python (Pyodide)",
      "language": "python"
    },
    "language_info": {
      "codemirror_mode": {
        "name": "python",
        "version": 3
      },
      "file_extension": ".py",
      "mimetype": "text/x-python",
      "name": "python",
      "nbconvert_exporter": "python",
      "pygments_lexer": "ipython3",
      "version": "3.8"
    }
  },
  "nbformat_minor": 4,
  "nbformat": 4,
  "cells": [
    {
      "cell_type": "markdown",
      "source": "# Python Data Types\n\nThis tutorial introduces some of the fundamental data types in Python and provides code snippets to illustrate their usage.\n\n## 1. Numeric\n\nPython has three primary numeric types: `int`, `float`, and `complex`.\n\n- **Integers (`int`)**: Whole numbers, positive or negative, without a decimal point.\n- **Floats (`float`)**: Numbers with a decimal point or in exponential notation.\n- **Complex Numbers (`complex`)**: Numbers with a real and imaginary part.",
      "metadata": {}
    },
    {
      "cell_type": "code",
      "source": "# Integer\nx = 10\nprint(type(x))  # <class 'int'>\n\n# Float\ny = 10.5\nprint(type(y))  # <class 'float'>\n\n# Complex\nz = 2 + 3j\nprint(type(z))  # <class 'complex'>",
      "metadata": {
        "trusted": true
      },
      "outputs": [
        {
          "name": "stdout",
          "text": "<class 'int'>\n<class 'float'>\n<class 'complex'>\n",
          "output_type": "stream"
        }
      ],
      "execution_count": 2
    },
    {
      "cell_type": "markdown",
      "source": "### 2. Boolean\nA Boolean type (`bool`) can hold two values: `True` or `False`. It is often used for conditional statements.",
      "metadata": {}
    },
    {
      "cell_type": "code",
      "source": "a = True\nb = False\nprint(type(a))  # <class 'bool'>",
      "metadata": {
        "trusted": true
      },
      "outputs": [
        {
          "name": "stdout",
          "text": "<class 'bool'>\n",
          "output_type": "stream"
        }
      ],
      "execution_count": 4
    },
    {
      "cell_type": "markdown",
      "source": "### 3. String\nStrings (`str`) are sequences of characters. They can be enclosed in single, double, or triple quotes.",
      "metadata": {}
    },
    {
      "cell_type": "code",
      "source": "text = \"Hello, Python!\"\nprint(type(text))  # <class 'str'>\nprint(text)\n\n# String operations\nuppercase_text = text.upper()  # Convert to uppercase\nprint(uppercase_text)  # HELLO, PYTHON!",
      "metadata": {
        "trusted": true
      },
      "outputs": [
        {
          "name": "stdout",
          "text": "<class 'str'>\nHello, Python!\nHELLO, PYTHON!\n",
          "output_type": "stream"
        }
      ],
      "execution_count": 6
    },
    {
      "cell_type": "markdown",
      "source": "### 4. List\nA list (`list`) is an ordered collection of elements. Lists can hold any type of elements, and they are mutable (modifiable).",
      "metadata": {}
    },
    {
      "cell_type": "code",
      "source": "my_list = [1, \"hello\", 3.14, True]\nprint(type(my_list))  # <class 'list'>\n\n# Accessing elements\nprint(my_list[1])  # hello\n\n# Adding an element\nmy_list.append(\"Python\")\nprint(my_list)  # [1, \"hello\", 3.14, True, \"Python\"]",
      "metadata": {
        "trusted": true
      },
      "outputs": [
        {
          "name": "stdout",
          "text": "<class 'list'>\nhello\n[1, 'hello', 3.14, True, 'Python']\n",
          "output_type": "stream"
        }
      ],
      "execution_count": 7
    },
    {
      "cell_type": "markdown",
      "source": "### 5. Tuple\nA tuple (`tuple`) is similar to a list but is immutable, meaning its elements cannot be changed after creation.",
      "metadata": {}
    },
    {
      "cell_type": "code",
      "source": "my_tuple = (1, 2, 3)\nprint(type(my_tuple))  # <class 'tuple'>\n\n# Accessing elements\nprint(my_tuple[0])  # 1",
      "metadata": {
        "trusted": true
      },
      "outputs": [
        {
          "name": "stdout",
          "text": "<class 'tuple'>\n1\n",
          "output_type": "stream"
        }
      ],
      "execution_count": 8
    },
    {
      "cell_type": "markdown",
      "source": "### 6. Set\nA set (`set`) is an unordered collection of unique elements. It does not allow duplicate elements.",
      "metadata": {}
    },
    {
      "cell_type": "code",
      "source": "my_set = {1, 2, 3, 2}  # Duplicate '2' is removed\nprint(type(my_set))  # <class 'set'>\n\n# Adding an element\nmy_set.add(4)\nprint(my_set)  # {1, 2, 3, 4}\n\n# Checking membership\nprint(2 in my_set)  # True",
      "metadata": {
        "trusted": true
      },
      "outputs": [
        {
          "name": "stdout",
          "text": "<class 'set'>\n{1, 2, 3, 4}\nTrue\n",
          "output_type": "stream"
        }
      ],
      "execution_count": 9
    },
    {
      "cell_type": "markdown",
      "source": "### 7. Dictionary\nA dictionary (`dict`) is an unordered collection of key-value pairs. Each key must be unique.",
      "metadata": {}
    },
    {
      "cell_type": "code",
      "source": "my_dict = {\"name\": \"Alice\", \"age\": 25}\nprint(type(my_dict))  # <class 'dict'>\n\n# Accessing a value by key\nprint(my_dict[\"name\"])  # Alice\n\n# Adding a new key-value pair\nmy_dict[\"city\"] = \"New York\"\nprint(my_dict)  # {'name': 'Alice', 'age': 25, 'city': 'New York'}",
      "metadata": {
        "trusted": true
      },
      "outputs": [
        {
          "name": "stdout",
          "text": "<class 'dict'>\nAlice\n{'name': 'Alice', 'age': 25, 'city': 'New York'}\n",
          "output_type": "stream"
        }
      ],
      "execution_count": 11
    },
    {
      "cell_type": "code",
      "source": "",
      "metadata": {
        "trusted": true
      },
      "outputs": [],
      "execution_count": null
    }
  ]
}