{
  "metadata": {
    "kernelspec": {
      "name": "python",
      "display_name": "Python (Pyodide)",
      "language": "python"
    },
    "language_info": {
      "codemirror_mode": {
        "name": "python",
        "version": 3
      },
      "file_extension": ".py",
      "mimetype": "text/x-python",
      "name": "python",
      "nbconvert_exporter": "python",
      "pygments_lexer": "ipython3",
      "version": "3.8"
    }
  },
  "nbformat_minor": 4,
  "nbformat": 4,
  "cells": [
    {
      "cell_type": "markdown",
      "source": "## 1. Conditional Statements\nConditional statements let you execute certain code blocks depending on specified conditions. \nThe keywords `if`, `elif`, and `else` are used to define conditional logic.\n\n### 1.1. `if` Statement\n\nThe `if` statement checks a condition and executes a code block if the condition is `True`.\n",
      "metadata": {}
    },
    {
      "cell_type": "code",
      "source": "x = 10\nif x > 5:\n    print(\"x is greater than 5\")",
      "metadata": {
        "trusted": true
      },
      "outputs": [
        {
          "name": "stdout",
          "text": "x is greater than 5\n",
          "output_type": "stream"
        }
      ],
      "execution_count": 1
    },
    {
      "cell_type": "markdown",
      "source": "### 1.2. `elif` and `else` Statements\n\nThe `elif` statement is used for additional conditions, while `else` covers all other cases when previous conditions are not met.",
      "metadata": {}
    },
    {
      "cell_type": "code",
      "source": "x = 10\n\nif x > 10:\n    print(\"x is greater than 10\")\nelif x == 10:\n    print(\"x is exactly 10\")\nelse:\n    print(\"x is less than 10\")",
      "metadata": {
        "trusted": true
      },
      "outputs": [
        {
          "name": "stdout",
          "text": "x is exactly 10\n",
          "output_type": "stream"
        }
      ],
      "execution_count": 2
    },
    {
      "cell_type": "markdown",
      "source": "### 1.3. Inline if/else\n\nWe can write simple `if` statements “inline”, i.e., in a single line, for simplicity.\n\nConsider the following snippet:",
      "metadata": {}
    },
    {
      "cell_type": "code",
      "source": "words = [\"the\", \"list\", \"of\", \"words\"]\n\nif len(words) > 10:\n    x = \"long list\"\nelse:\n    x = \"short list\"\n\nx",
      "metadata": {
        "trusted": true
      },
      "outputs": [
        {
          "execution_count": 5,
          "output_type": "execute_result",
          "data": {
            "text/plain": "'short list'"
          },
          "metadata": {}
        }
      ],
      "execution_count": 5
    },
    {
      "cell_type": "markdown",
      "source": "The above code can be simplified into:",
      "metadata": {}
    },
    {
      "cell_type": "code",
      "source": "x = \"long list\" if len(words) > 10 else \"short list\"\nx",
      "metadata": {
        "trusted": true
      },
      "outputs": [
        {
          "execution_count": 6,
          "output_type": "execute_result",
          "data": {
            "text/plain": "'short list'"
          },
          "metadata": {}
        }
      ],
      "execution_count": 6
    },
    {
      "cell_type": "markdown",
      "source": "## 2. Loops\n\nLoops allow us to execute a code block repeatedly, either a specific number of times or while a condition is `True`.\n\n### 2.1 for Loop\n\nThe for loop is used to iterate over a sequence, such as a list or a range of numbers.",
      "metadata": {}
    },
    {
      "cell_type": "code",
      "source": "# Iterate over a list\nfruits = [\"apple\", \"banana\", \"cherry\"]\nfor fruit in fruits:\n    print(fruit)",
      "metadata": {
        "trusted": true
      },
      "outputs": [
        {
          "name": "stdout",
          "text": "apple\nbanana\ncherry\n",
          "output_type": "stream"
        }
      ],
      "execution_count": 7
    },
    {
      "cell_type": "markdown",
      "source": "### 2.2 Using `range()` with `for` Loop\n\nThe `range()` function creates a sequence of numbers, which is often used with `for` loops.",
      "metadata": {}
    },
    {
      "cell_type": "code",
      "source": "# Iterate over a range of numbers\nfor i in range(5):\n    print(i)  # Output: 0, 1, 2, 3, 4",
      "metadata": {
        "trusted": true
      },
      "outputs": [
        {
          "name": "stdout",
          "text": "0\n1\n2\n3\n4\n",
          "output_type": "stream"
        }
      ],
      "execution_count": 9
    },
    {
      "cell_type": "markdown",
      "source": "### 2.3. Using `zip()` and `enumerate()`\n\n`zip()` returns a zip object which is an iterable of tuples.",
      "metadata": {}
    },
    {
      "cell_type": "code",
      "source": "list_1 = [0, 1, 2]\nlist_2 = [\"a\", \"b\", \"c\"]\n\nfor i in zip(list_1, list_2):\n    print(i)",
      "metadata": {
        "trusted": true
      },
      "outputs": [
        {
          "name": "stdout",
          "text": "(0, 'a')\n(1, 'b')\n(2, 'c')\n",
          "output_type": "stream"
        }
      ],
      "execution_count": 10
    },
    {
      "cell_type": "markdown",
      "source": "We can even “unpack” these tuples directly in the for loop:",
      "metadata": {}
    },
    {
      "cell_type": "code",
      "source": "for i, j in zip(list_1, list_2):\n    print(i, j)",
      "metadata": {
        "trusted": true
      },
      "outputs": [
        {
          "name": "stdout",
          "text": "0 a\n1 b\n2 c\n",
          "output_type": "stream"
        }
      ],
      "execution_count": 11
    },
    {
      "cell_type": "markdown",
      "source": "`enumerate()` adds a counter to an iterable which we can use within the loop.",
      "metadata": {}
    },
    {
      "cell_type": "code",
      "source": "for i in enumerate(list_2):\n    print(i)",
      "metadata": {
        "trusted": true
      },
      "outputs": [
        {
          "name": "stdout",
          "text": "(0, 'a')\n(1, 'b')\n(2, 'c')\n",
          "output_type": "stream"
        }
      ],
      "execution_count": 12
    },
    {
      "cell_type": "code",
      "source": "for n, i in enumerate(list_2):\n    print(f\"index {n}, value {i}\")",
      "metadata": {
        "trusted": true
      },
      "outputs": [
        {
          "name": "stdout",
          "text": "index 0, value a\nindex 1, value b\nindex 2, value c\n",
          "output_type": "stream"
        }
      ],
      "execution_count": 13
    },
    {
      "cell_type": "markdown",
      "source": "We can loop through key-value pairs of a dictionary using `.items()`. The general syntax is `for key, value in dictionary.items()`.",
      "metadata": {}
    },
    {
      "cell_type": "code",
      "source": "courses = {521 : \"awesome\",\n           551 : \"riveting\",\n           511 : \"naptime!\"}\n\nfor course_num, description in courses.items():\n    print(f\"DSCI {course_num}, is {description}\")",
      "metadata": {
        "trusted": true
      },
      "outputs": [
        {
          "name": "stdout",
          "text": "DSCI 521, is awesome\nDSCI 551, is riveting\nDSCI 511, is naptime!\n",
          "output_type": "stream"
        }
      ],
      "execution_count": 14
    },
    {
      "cell_type": "markdown",
      "source": "We can even use `enumerate()` to do more complex un-packing:",
      "metadata": {}
    },
    {
      "cell_type": "code",
      "source": "for n, (course_num, description) in enumerate(courses.items()):\n    print(f\"Item {n}: DSCI {course_num}, is {description}\")",
      "metadata": {
        "trusted": true
      },
      "outputs": [
        {
          "name": "stdout",
          "text": "Item 0: DSCI 521, is awesome\nItem 1: DSCI 551, is riveting\nItem 2: DSCI 511, is naptime!\n",
          "output_type": "stream"
        }
      ],
      "execution_count": 15
    },
    {
      "cell_type": "markdown",
      "source": "### 2.4. `while` Loops",
      "metadata": {}
    },
    {
      "cell_type": "markdown",
      "source": "We can also use a [`while` loop](https://docs.python.org/3/reference/compound_stmts.html#while) to excute a block of code several times. But beware! If the conditional expression is always `True`, then you've got an infintite loop! ",
      "metadata": {}
    },
    {
      "cell_type": "code",
      "source": "n = 10\nwhile n > 0:\n    print(n)\n    n -= 1\n\nprint(\"Blast off!\")",
      "metadata": {
        "trusted": true
      },
      "outputs": [
        {
          "name": "stdout",
          "text": "10\n9\n8\n7\n6\n5\n4\n3\n2\n1\nBlast off!\n",
          "output_type": "stream"
        }
      ],
      "execution_count": 17
    },
    {
      "cell_type": "markdown",
      "source": "Let's read the `while` statement above as if it were in English. It means, “While `n` is greater than 0, display the value of `n` and then decrement `n` by 1. When you get to 0, display the word Blast off!”\n\nFor some loops, it's hard to tell when, or if, they will stop! Take a look at the [Collatz conjecture](https://en.wikipedia.org/wiki/Collatz_conjecture). The conjecture states that no matter what positive integer `n` we start with, the sequence will always eventually reach 1 - we just don't know how many iterations it will take.",
      "metadata": {}
    },
    {
      "cell_type": "code",
      "source": "n = 11\nwhile n != 1:\n    print(int(n))\n    if n % 2 == 0: # n is even\n        n = n / 2\n    else: # n is odd\n        n = n * 3 + 1\nprint(int(n))",
      "metadata": {
        "trusted": true
      },
      "outputs": [
        {
          "name": "stdout",
          "text": "11\n34\n17\n52\n26\n13\n40\n20\n10\n5\n16\n8\n4\n2\n1\n",
          "output_type": "stream"
        }
      ],
      "execution_count": 18
    },
    {
      "cell_type": "markdown",
      "source": "Hence, in some cases, we may want to force a `while` loop to stop based on some criteria, using the `break` keyword.",
      "metadata": {}
    },
    {
      "cell_type": "code",
      "source": "n = 123\ni = 0\nwhile n != 1:\n    print(int(n))\n    if n % 2 == 0: # n is even\n        n = n / 2\n    else: # n is odd\n        n = n * 3 + 1\n    i += 1\n    if i == 10:\n        print(f\"Ugh, too many iterations!\")\n        break",
      "metadata": {
        "trusted": true
      },
      "outputs": [
        {
          "name": "stdout",
          "text": "123\n370\n185\n556\n278\n139\n418\n209\n628\n314\nUgh, too many iterations!\n",
          "output_type": "stream"
        }
      ],
      "execution_count": 19
    },
    {
      "cell_type": "markdown",
      "source": "The `continue` keyword is similar to `break` but won't stop the loop. Instead, it just restarts the loop from the top.",
      "metadata": {}
    },
    {
      "cell_type": "code",
      "source": "n = 10\nwhile n > 0:\n    if n % 2 != 0: # n is odd\n        n = n - 1\n        continue\n        break  # this line is never executed because continue restarts the loop from the top\n    print(n)\n    n = n - 1\n\nprint(\"Blast off!\")",
      "metadata": {
        "trusted": true
      },
      "outputs": [
        {
          "name": "stdout",
          "text": "10\n8\n6\n4\n2\nBlast off!\n",
          "output_type": "stream"
        }
      ],
      "execution_count": 20
    },
    {
      "cell_type": "markdown",
      "source": "## 3. Error Handling using `try` and `except`\n\nIn Python, the try and except statements are used for error handling. They allow your program to catch and handle exceptions (errors) that occur during execution, preventing your program from crashing and providing a way to gracefully deal with unexpected situations.\n\n**Syntax:**\n```python\ntry:\n    # Code that may raise an exception\n    # ...\nexcept ExceptionName:\n    # Code to handle the exception\n    # ...",
      "metadata": {}
    },
    {
      "cell_type": "markdown",
      "source": "### 3.1. `try` Block:\n\nThe `try` block contains the code that might raise an exception. We put the code that we think might cause an error inside the `try` block.\n\nIn the following example, the code inside the `try` block will raise a `ZeroDivisionError` because we cannot divide a number by zero.",
      "metadata": {}
    },
    {
      "cell_type": "code",
      "source": "try:\n    num = 10 / 0  # This will raise a ZeroDivisionError\nexcept:\n    pass",
      "metadata": {
        "trusted": true
      },
      "outputs": [],
      "execution_count": 21
    },
    {
      "cell_type": "markdown",
      "source": "### 3.2. `except` Block:\n\nThe `except` block follows the try block and is used to handle exceptions that occur in the try block. If an exception is raised in the try block, the code in the except block is executed.",
      "metadata": {}
    },
    {
      "cell_type": "code",
      "source": "try:\n    num = 10 / 0\nexcept ZeroDivisionError:\n    print(\"Cannot divide by zero.\")",
      "metadata": {
        "trusted": true
      },
      "outputs": [
        {
          "name": "stdout",
          "text": "Cannot divide by zero.\n",
          "output_type": "stream"
        }
      ],
      "execution_count": 22
    },
    {
      "cell_type": "markdown",
      "source": "In the above example, if a `ZeroDivisionError` occurs, the code in the `except` block is executed, and the message \"Cannot divide by zero.\" is printed.",
      "metadata": {}
    },
    {
      "cell_type": "code",
      "source": "",
      "metadata": {
        "trusted": true
      },
      "outputs": [],
      "execution_count": null
    }
  ]
}